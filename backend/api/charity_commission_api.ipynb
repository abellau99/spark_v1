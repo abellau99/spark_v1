{
 "cells": [
  {
   "cell_type": "markdown",
   "metadata": {},
   "source": [
    "# UK Charity Commission API \n",
    "\n",
    "This is the API call to get public data of charities in the UK. You need to have the charity number ready when making the call."
   ]
  },
  {
   "cell_type": "code",
   "execution_count": 30,
   "metadata": {},
   "outputs": [],
   "source": [
    "import requests"
   ]
  },
  {
   "cell_type": "markdown",
   "metadata": {},
   "source": [
    "### This is the access key"
   ]
  },
  {
   "cell_type": "code",
   "execution_count": 31,
   "metadata": {},
   "outputs": [],
   "source": [
    "# Visit here to get a new key https://api-portal.charitycommission.gov.uk/profile\n",
    "\n",
    "api_keys = {\n",
    "    \"primary_key\" : \"8d1280112ddd4c9cb899968f77d6a84f\",\n",
    "    \"secondary_key\" : \"c7d05d94a9294b36a510c7ef3023df00\"\n",
    "}"
   ]
  },
  {
   "cell_type": "markdown",
   "metadata": {},
   "source": [
    "### Get the suffix of the charity in question"
   ]
  },
  {
   "cell_type": "code",
   "execution_count": 32,
   "metadata": {},
   "outputs": [
    {
     "name": "stdout",
     "output_type": "stream",
     "text": [
      "API call successful, the suffix is 0\n"
     ]
    }
   ],
   "source": [
    "charity_id = \"1108291\"\n",
    "\n",
    "def get_charity_suffix(charity_id):\n",
    "    base_url = \"https://api.charitycommission.gov.uk/register/api/charitydetailsmulti/\"\n",
    "    url = f\"{base_url}{charity_id}\"\n",
    "    headers = {\n",
    "            \"Ocp-Apim-Subscription-Key\": api_keys.get('primary_key'),\n",
    "            'Cache-Control': 'no-cache'\n",
    "        }\n",
    "    \n",
    "    response = requests.get(url, headers=headers)\n",
    "    data = response.json()\n",
    "\n",
    "    if response.status_code == 200:\n",
    "        suffix = data[0]['group_subsid_suffix']\n",
    "        print(f\"API call successful, the suffix is {suffix}\")\n",
    "        return suffix\n",
    "    \n",
    "if __name__ == \"__main__\":\n",
    "    suffix = get_charity_suffix(charity_id)"
   ]
  },
  {
   "cell_type": "markdown",
   "metadata": {},
   "source": [
    "### Get all details about a charity\n",
    "\n",
    "For other APIs available, visit here https://api-portal.charitycommission.gov.uk/apis"
   ]
  },
  {
   "cell_type": "code",
   "execution_count": 33,
   "metadata": {},
   "outputs": [
    {
     "name": "stdout",
     "output_type": "stream",
     "text": [
      "API call successful. Parsing JSON...\n",
      "{'organisation_number': 4010073, 'reg_charity_number': 1108291, 'group_subsid_suffix': 0, 'charity_name': 'CHARITIES AID FOUNDATION UK EQUITRACK FUND', 'charity_type': 'Other', 'insolvent': False, 'in_administration': False, 'prev_excepted_ind': False, 'cif_cdf_ind': 'CIF', 'cio_dissolution_ind': False, 'interim_manager_ind': None, 'date_of_interim_manager_appt': None, 'reg_status': 'R', 'date_of_registration': '2005-02-24T00:00:00', 'date_of_removal': None, 'latest_acc_fin_year_start_date': '2017-05-01T00:00:00', 'latest_acc_fin_year_end_date': '2018-04-30T00:00:00', 'latest_income': 13492679.0, 'latest_expenditure': 13193000.0, 'address_line_one': 'CAF UK EQUITRACK FUND', 'address_line_two': '25 KINGS HILL AVENUE', 'address_line_three': 'KINGS HILL', 'address_line_four': 'WEST MALLING', 'address_line_five': 'KENT', 'address_post_code': 'ME19 4TA', 'phone': '01732520000', 'email': 'LSHERIDAN@CAFONLINE.ORG', 'web': 'www.cafonline.org', 'charity_co_reg_number': None, 'reporting_status': 'Suppressed', 'removal_reason': None, 'cio_ind': False, 'last_modified_time': '2020-02-25T16:17:48.89', 'trustee_names': [{'organisation_number': 4010073, 'trustee_name': 'LEGAL & GENERAL (UNIT TRUST MANAGERS) LIMITED'}, {'organisation_number': 4010073, 'trustee_name': 'MARK EDWARD FLEMING'}, {'organisation_number': 4010073, 'trustee_name': 'PETER GEOFFREY MOON'}, {'organisation_number': 4010073, 'trustee_name': 'SUSAN ELIZABETH FERNANDO'}], 'who_what_where': [{'classification_code': '117', 'classification_type': 'What', 'classification_desc': 'Other Charitable Purposes'}, {'classification_code': '205', 'classification_type': 'Who', 'classification_desc': 'Other Charities Or Voluntary Bodies'}, {'classification_code': '303', 'classification_type': 'How', 'classification_desc': 'Provides Other Finance'}], 'CharityAoOCountryContinent': [], 'CharityAoOLocalAuthority': [], 'CharityAoORegion': [{'region': 'Throughout England And Wales'}], 'other_names': [{'other_name': 'CAF UK EQUITRACK FUND', 'name_type': 'O'}, {'other_name': 'CHARITIES AID FOUNDATION UK EQUITRACK FUND', 'name_type': 'O'}], 'constituency_name': [{'constituency_name': 'Tonbridge and Malling'}]}\n"
     ]
    }
   ],
   "source": [
    "def get_charity_details(charity_id, suffix):\n",
    "    base_url = \"https://api.charitycommission.gov.uk/register/api/allcharitydetails/\"\n",
    "    url = f\"{base_url}{charity_id}/{suffix}\"\n",
    "    headers = {\n",
    "            \"Ocp-Apim-Subscription-Key\": api_keys.get('primary_key'),\n",
    "            'Cache-Control': 'no-cache'\n",
    "        }\n",
    "    \n",
    "    response = requests.get(url, headers=headers)\n",
    "\n",
    "    if response.status_code == 200:\n",
    "        print(\"API call successful. Parsing JSON...\")\n",
    "        charity_detail = response.json()\n",
    "        print(charity_detail)\n",
    "        return charity_detail\n",
    "    \n",
    "    else:\n",
    "        print(f\"Failed to retrieve data. Status code: {response.status_code}\")\n",
    "        return f\"Failed to retrieve data. Status code: {response.status_code}\"\n",
    "\n",
    "if __name__ == \"__main__\":\n",
    "        institutions = get_charity_details(charity_id, suffix)"
   ]
  }
 ],
 "metadata": {
  "kernelspec": {
   "display_name": "myenv",
   "language": "python",
   "name": "python3"
  },
  "language_info": {
   "codemirror_mode": {
    "name": "ipython",
    "version": 3
   },
   "file_extension": ".py",
   "mimetype": "text/x-python",
   "name": "python",
   "nbconvert_exporter": "python",
   "pygments_lexer": "ipython3",
   "version": "3.7.5"
  }
 },
 "nbformat": 4,
 "nbformat_minor": 2
}
